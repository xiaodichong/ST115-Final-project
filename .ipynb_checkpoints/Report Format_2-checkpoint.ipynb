{
 "cells": [
  {
   "cell_type": "markdown",
   "id": "ce202c65",
   "metadata": {},
   "source": [
    "<h1 style=\"font-size: 24px;\">Main Title</h1>\n",
    "\n",
    "## Table of Contents\n",
    "\n",
    "- [1. Introduction](#section-1)\n",
    "- [2. Research Questions](#section-2)\n",
    "- [3. Data Description](#section-3)\n",
    "- [4. Data Acquisition and Pre-processing](#section-4)\n",
    "- [5. Data Analysis](#section-5)\n",
    "## 1. Introduction <!-- {#section-1} -->\n",
    "#### Motivation\n",
    "#### Goals of Study\n",
    "     1. How did students perceive their educational experience based upon the subject of degree they studied?\n",
    "    2. How does the sentiment expressed in Reddit posts about the London School of Economics compare to that of other London universities, and what implications does this have for potential student applicantsand their interpretation of sixth form reddit?\n",
    "    3.\n",
    "#### Originality\n",
    "## 2. Data Acquisition<!-- {#section-2} -->\n",
    "\n",
    "#### Datasets used\n",
    " - 1. NSS Dataset\n",
    "#### Description of Collected Data\n",
    "#### Data Storage Location\n",
    "#### Webscraping Code"
   ]
  },
  {
   "cell_type": "code",
   "execution_count": null,
   "id": "e5bc9fb4",
   "metadata": {},
   "outputs": [],
   "source": []
  },
  {
   "cell_type": "markdown",
   "id": "83006a3c",
   "metadata": {},
   "source": [
    "## 3. Preparing Data for Analysis"
   ]
  },
  {
   "cell_type": "code",
   "execution_count": null,
   "id": "ba169817",
   "metadata": {},
   "outputs": [],
   "source": []
  },
  {
   "cell_type": "markdown",
   "id": "b8e0f4ad",
   "metadata": {},
   "source": [
    "## 4. Data Analysis<!-- {#section-4} -->\n",
    "\n",
    "#### 4.1 Imported Libraries</p>"
   ]
  },
  {
   "cell_type": "code",
   "execution_count": 41,
   "id": "c4ecf41b",
   "metadata": {},
   "outputs": [],
   "source": [
    "import pandas as pd\n",
    "import numpy as np\n",
    "import regex\n",
    "import seaborn as sns\n",
    "import matplotlib.pyplot as plt\n",
    "import plotly.express as px\n",
    "from scipy.stats import t\n",
    "import import_ipynb"
   ]
  },
  {
   "cell_type": "markdown",
   "id": "f9e45427",
   "metadata": {},
   "source": [
    "#### 4.2 Analysis of NSS Dataset"
   ]
  },
  {
   "cell_type": "code",
   "execution_count": null,
   "id": "9dc31e33",
   "metadata": {},
   "outputs": [],
   "source": []
  },
  {
   "cell_type": "markdown",
   "id": "66d68100",
   "metadata": {},
   "source": []
  },
  {
   "cell_type": "code",
   "execution_count": null,
   "id": "5fdfd46e",
   "metadata": {},
   "outputs": [],
   "source": []
  },
  {
   "cell_type": "markdown",
   "id": "5f6b75d2",
   "metadata": {},
   "source": [
    "## 5. Conclusion<!-- {#section-5} -->\n",
    "\n",
    "#### Summary of Results\n",
    "#### Question 1 \n",
    "#### Question 2 \n",
    "#### Question 3\n",
    "#### Limitations \n",
    "#### What else could be done?\n"
   ]
  }
 ],
 "metadata": {
  "kernelspec": {
   "display_name": "Python 3 (ipykernel)",
   "language": "python",
   "name": "python3"
  },
  "language_info": {
   "codemirror_mode": {
    "name": "ipython",
    "version": 3
   },
   "file_extension": ".py",
   "mimetype": "text/x-python",
   "name": "python",
   "nbconvert_exporter": "python",
   "pygments_lexer": "ipython3",
   "version": "3.10.11"
  }
 },
 "nbformat": 4,
 "nbformat_minor": 5
}
