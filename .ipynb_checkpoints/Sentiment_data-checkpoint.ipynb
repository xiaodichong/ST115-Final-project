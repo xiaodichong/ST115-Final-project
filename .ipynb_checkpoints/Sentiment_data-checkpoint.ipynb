{
 "cells": [
  {
   "cell_type": "code",
   "execution_count": null,
   "id": "103f445d",
   "metadata": {},
   "outputs": [],
   "source": [
    "import praw\n",
    "import spacy\n",
    "import pandas as pd\n",
    "import matplotlib.pyplot as plt\n",
    "import numpy as np\n",
    "import ast"
   ]
  },
  {
   "cell_type": "code",
   "execution_count": null,
   "id": "b0b6be7d",
   "metadata": {},
   "outputs": [],
   "source": [
    "import json\n",
    "with open('keys.json') as f:\n",
    "    keys = json.load(f)\n",
    "\n",
    "app_id = keys['reddit']['app_id']\n",
    "app_secret = keys['reddit']['app_secret']\n",
    "username = keys['reddit']['username']\n",
    "password = keys['reddit']['password']"
   ]
  },
  {
   "cell_type": "code",
   "execution_count": null,
   "id": "96bc4380",
   "metadata": {},
   "outputs": [],
   "source": [
    "reddit = praw.Reddit(client_id = app_id,\n",
    "                    client_secret = app_secret,\n",
    "                    user_agent = f'lse/0.0.1 by {username}',\n",
    "                    username = username,\n",
    "                    password = password)"
   ]
  },
  {
   "cell_type": "code",
   "execution_count": null,
   "id": "44a0117c",
   "metadata": {
    "scrolled": false
   },
   "outputs": [],
   "source": [
    "from transformers import AutoTokenizer, TFAutoModelForSequenceClassification, pipeline\n",
    "tokenizer = AutoTokenizer.from_pretrained(\"finiteautomata/bertweet-base-sentiment-analysis\")\n",
    "model = TFAutoModelForSequenceClassification.from_pretrained(\"finiteautomata/bertweet-base-sentiment-analysis\")\n",
    "specific_model = pipeline(\"sentiment-analysis\", model=model, tokenizer=tokenizer);\n"
   ]
  },
  {
   "cell_type": "code",
   "execution_count": null,
   "id": "1d95c7bf",
   "metadata": {},
   "outputs": [],
   "source": [
    "import nltk\n",
    "from nltk.sentiment import SentimentIntensityAnalyzer\n",
    "from nltk import sent_tokenize\n",
    "\n",
    "nltk.download('punkt')\n",
    "nltk.download('vader_lexicon')\n",
    "analyzer = SentimentIntensityAnalyzer()\n"
   ]
  },
  {
   "cell_type": "code",
   "execution_count": null,
   "id": "1529099f",
   "metadata": {},
   "outputs": [],
   "source": [
    "def analyze_sentiment(text):\n",
    "\n",
    "    sentences = nltk.sent_tokenize(text)\n",
    "    compound_scores = []\n",
    "\n",
    "    for sentence in sentences:\n",
    "        sentiment = analyzer.polarity_scores(sentence)\n",
    "        compound_scores.append(sentiment['compound'])\n",
    "\n",
    "    if compound_scores:\n",
    "        avg_compound_score = np.mean(compound_scores)\n",
    "    else:\n",
    "        avg_compound_score = 0\n",
    "\n",
    "    return avg_compound_score"
   ]
  },
  {
   "cell_type": "code",
   "execution_count": null,
   "id": "31c8bbd1",
   "metadata": {},
   "outputs": [],
   "source": [
    "import re\n",
    "from datetime import datetime\n",
    "import emoji\n",
    "\n",
    "def remove_emojis(text):\n",
    "    return emoji.get_emoji_regexp().sub(u'', text)\n",
    "\n",
    "subreddit = reddit.subreddit(\"6thForm\")\n",
    "\n",
    "post_text_lst= []\n",
    "comment_text_lst = []\n",
    "\n",
    "for index, submission in enumerate(subreddit.search(\"LSE+Lse+lse\", limit=1000,sort=\"relevance\")):\n",
    "# for index, submission in enumerate(subreddit.search(\"UCL+ucl+Ucl\", limit=1000,sort=\"relevance\")):\n",
    "# for index, submission in enumerate(subreddit.search(\"Imperial+IMPERIAL+imperial+icl\", limit=10,sort=\"relevance\")):\n",
    "# for index, submission in enumerate(subreddit.search(\"Kings+KINGS+KCL+Kcl+kcl\", limit=1000,sort=\"relevance\")):\n",
    "# for index, submission in enumerate(subreddit.search(\"Cambridge+Oxford+Oxbridge\", limit=1000,sort=\"relevance\")):\n",
    "    if submission.link_flair_text is not None:\n",
    "        post_flair = remove_emojis(submission.link_flair_text)\n",
    "    else:\n",
    "        post_flair = None\n",
    "    \n",
    "    post_text_lst.append((index, remove_emojis(submission.selftext),post_flair, \"post_text\", datetime.utcfromtimestamp(submission.created_utc)))\n",
    "    if submission.num_comments > 0:\n",
    "        comments = submission.comments.replace_more(limit=0)            \n",
    "        for comments in submission.comments.list():\n",
    "            if comments.author != \"AutoModerator\":\n",
    "                comment_text_lst.append((index, remove_emojis(comments.body), post_flair, \"comment_text\", datetime.utcfromtimestamp(comments.created_utc)))"
   ]
  },
  {
   "cell_type": "code",
   "execution_count": null,
   "id": "9eb4a42f",
   "metadata": {
    "scrolled": true
   },
   "outputs": [],
   "source": [
    "df = pd.DataFrame(post_text_lst + comment_text_lst, columns=['post_index', 'text', 'flair', 'post_type', \"date\"])\n",
    "df"
   ]
  },
  {
   "cell_type": "code",
   "execution_count": null,
   "id": "d8140d91",
   "metadata": {
    "scrolled": false
   },
   "outputs": [],
   "source": [
    "df2 = df[df['text']!=\"\"].copy()\n",
    "df2['text'] = df2['text'].str.split(r'\\.\\s+|\\n+')\n",
    "df_exploded = df2.explode('text')\n",
    "df_exploded = df_exploded[df_exploded['text']!=\"\"].copy()\n",
    "df_exploded['Word_Count'] = df_exploded['text'].apply(lambda x: len(str(x).split()))\n",
    "df_exploded = df_exploded[df_exploded['Word_Count'] >= 10]\n",
    "df_exploded\n"
   ]
  },
  {
   "cell_type": "code",
   "execution_count": null,
   "id": "0900ea79",
   "metadata": {
    "scrolled": true
   },
   "outputs": [],
   "source": [
    "df_exploded['sentiment'] = df_exploded['text'].apply(lambda x: specific_model(x, truncation=True, padding=True, max_length=128)[0])\n",
    "df_exploded['vader_compound_score'] = df_exploded['text'].apply(lambda x: analyze_sentiment(x))\n",
    "df_exploded.to_csv('data/lse_sentiment_data.csv', index=False)"
   ]
  },
  {
   "cell_type": "code",
   "execution_count": null,
   "id": "7580d14d",
   "metadata": {},
   "outputs": [],
   "source": [
    "csv_files = [\n",
    "    'data/lse_sentiment_data.csv',\n",
    "    'data/ucl_sentiment_data.csv',\n",
    "    'data/imperial_sentiment_data.csv',\n",
    "    'data/kings_sentiment_data.csv',\n",
    "    'data/oxbridge_sentiment_data.csv'\n",
    "]\n",
    "for csv_file in csv_files:\n",
    "    df = pd.read_csv(csv_file)\n",
    "    df['vader_compound_score'] = df['text'].apply(lambda x: analyze_sentiment(x))\n",
    "    df.to_csv(csv_file[:-4] + \"_2.csv\", index=False)"
   ]
  }
 ],
 "metadata": {
  "kernelspec": {
   "display_name": "Python 3 (ipykernel)",
   "language": "python",
   "name": "python3"
  },
  "language_info": {
   "codemirror_mode": {
    "name": "ipython",
    "version": 3
   },
   "file_extension": ".py",
   "mimetype": "text/x-python",
   "name": "python",
   "nbconvert_exporter": "python",
   "pygments_lexer": "ipython3",
   "version": "3.10.11"
  }
 },
 "nbformat": 4,
 "nbformat_minor": 5
}
